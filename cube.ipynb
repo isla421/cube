{
 "cells": [
  {
   "cell_type": "code",
   "execution_count": 1,
   "id": "a8f46ca0-cac3-400c-92e6-14580ac80893",
   "metadata": {},
   "outputs": [],
   "source": [
    "import numpy as np\n",
    "from time import perf_counter\n",
    "import pandas as pd\n",
    "import seaborn as sns\n",
    "import matplotlib.pyplot as plt\n",
    "from abc import ABC, abstractmethod\n",
    "\n",
    "sns.set(font_scale=0.7)"
   ]
  },
  {
   "cell_type": "markdown",
   "id": "f5999bee-3fbb-40eb-ab77-7c01b58d5c8f",
   "metadata": {},
   "source": [
    "# Cube"
   ]
  },
  {
   "cell_type": "code",
   "execution_count": 2,
   "id": "47281c0c-e16c-414e-a4df-2d58ba106fb5",
   "metadata": {},
   "outputs": [],
   "source": [
    "from enum import Enum\n",
    "\n",
    "class TargetState(Enum):\n",
    "    SEQUENTIAL = [\n",
    "        [1, 2, 3],\n",
    "        [4, 5, 6],\n",
    "        [7, 8, 9],\n",
    "    ]\n",
    "    IDENTITY = [\n",
    "        [1, 0, 0],\n",
    "        [0, 1, 0],\n",
    "        [0, 0, 1],\n",
    "    ]\n",
    "    HORIZONTAL = [\n",
    "        [1, 1, 1],\n",
    "        [2, 2, 2],\n",
    "        [3, 3, 3],\n",
    "    ]\n",
    "    FIVESEQUENTIAL = [\n",
    "        [ 1,  2,  3,  4,  5],\n",
    "        [ 6,  7,  8,  9, 10],\n",
    "        [11, 12, 13, 14, 15],\n",
    "        [16, 17, 18, 19, 20],\n",
    "        [21, 22, 23, 24, 25],\n",
    "    ]\n",
    "    \n",
    "\n",
    "class Cube:\n",
    "    \n",
    "    def __init__(self, target_state): \n",
    "        self.target_state = np.array(target_state.value)\n",
    "        self.arr = np.array(target_state.value)\n",
    "\n",
    "    def is_solved(self):\n",
    "        return np.array_equal(self.arr, self.target_state)\n",
    "\n",
    "    def shuffle(self):\n",
    "        self.arr = self.arr.flatten()\n",
    "        np.random.shuffle(self.arr)\n",
    "        self.arr = self.arr.reshape(self.target_state.shape)\n",
    "\n",
    "    def swap(self, ax, ay, bx, by):\n",
    "        self.arr[(ax, ay)], self.arr[(bx, by)] = self.arr[(bx, by)], self.arr[(ax, ay)]\n",
    "\n",
    "    def show(self):\n",
    "        plt.figure(figsize=(len(self.arr) / 2, len(self.arr) / 2))\n",
    "        sns.heatmap(self.arr, cbar=False, xticklabels=False, yticklabels=False,\n",
    "                    linewidth=0.5, annot=True, cmap='coolwarm', square=True)\n",
    "        plt.show()\n",
    "\n",
    "    def __repr__(self):\n",
    "        return str(self.arr)"
   ]
  },
  {
   "cell_type": "markdown",
   "id": "2350101e-978c-42e0-8806-4d31095b0dc9",
   "metadata": {},
   "source": [
    "# Solvers"
   ]
  },
  {
   "cell_type": "code",
   "execution_count": 3,
   "id": "68e18432-9eec-4f4b-a94d-6fc4b2a0bf74",
   "metadata": {},
   "outputs": [],
   "source": [
    "class ABCSolver(ABC):\n",
    "    \n",
    "    def __init__(self, cube):\n",
    "        self.cube = cube\n",
    "        self.counter = None\n",
    "        self.timer = None\n",
    "\n",
    "    def solve(self, verbose=False):\n",
    "        self.counter = 0\n",
    "        self.timer = 0\n",
    "        tic = perf_counter()\n",
    "        while not self.cube.is_solved():\n",
    "            self.cube.swap(*self.next_best_move())\n",
    "            self.counter += 1\n",
    "            if verbose:\n",
    "                self.cube.show()\n",
    "        toc = perf_counter()\n",
    "        self.timer = toc - tic\n",
    "\n",
    "    @abstractmethod\n",
    "    def next_best_move(self):\n",
    "        pass\n",
    "\n",
    "    def __repr__(self):\n",
    "        return str(self.__class__.__name__)\n",
    "        \n",
    "\n",
    "class RandomSolver(ABCSolver):\n",
    "    def next_best_move(self):\n",
    "        return np.random.randint(0, 3, 4)\n",
    "\n",
    "\n",
    "class TargetedRandomSolver(ABCSolver):\n",
    "    def next_best_move(self):\n",
    "        idx = np.argwhere(self.cube.arr != self.cube.target_state)\n",
    "        return idx[np.random.choice(len(idx), size=2, replace=False)].flatten()"
   ]
  },
  {
   "cell_type": "markdown",
   "id": "7eff76f5-50c0-4260-9e4d-7411748de8d2",
   "metadata": {},
   "source": [
    "# Experiment (Simumlation)"
   ]
  },
  {
   "cell_type": "code",
   "execution_count": 4,
   "id": "08160b5b-3b8f-426d-b4c8-1afee5b0b618",
   "metadata": {},
   "outputs": [
    {
     "data": {
      "image/png": "[encoded data removed]",
      "text/plain": [
       "<Figure size 150x150 with 1 Axes>"
      ]
     },
     "metadata": {},
     "output_type": "display_data"
    },
    {
     "data": {
      "text/html": [
       "<div>\n",
       "<style scoped>\n",
       "    .dataframe tbody tr th:only-of-type {\n",
       "        vertical-align: middle;\n",
       "    }\n",
       "\n",
       "    .dataframe tbody tr th {\n",
       "        vertical-align: top;\n",
       "    }\n",
       "\n",
       "    .dataframe thead th {\n",
       "        text-align: right;\n",
       "    }\n",
       "</style>\n",
       "<table border=\"1\" class=\"dataframe\">\n",
       "  <thead>\n",
       "    <tr style=\"text-align: right;\">\n",
       "      <th></th>\n",
       "      <th>solver</th>\n",
       "      <th>RandomSolver</th>\n",
       "      <th>TargetedRandomSolver</th>\n",
       "    </tr>\n",
       "  </thead>\n",
       "  <tbody>\n",
       "    <tr>\n",
       "      <th>simulations</th>\n",
       "      <th>sum</th>\n",
       "      <td>1000.000000</td>\n",
       "      <td>1000.000000</td>\n",
       "    </tr>\n",
       "    <tr>\n",
       "      <th rowspan=\"2\" valign=\"top\">counter</th>\n",
       "      <th>mean</th>\n",
       "      <td>196.971000</td>\n",
       "      <td>2.537000</td>\n",
       "    </tr>\n",
       "    <tr>\n",
       "      <th>max</th>\n",
       "      <td>1367.000000</td>\n",
       "      <td>14.000000</td>\n",
       "    </tr>\n",
       "    <tr>\n",
       "      <th>timer</th>\n",
       "      <th>sum</th>\n",
       "      <td>10.322992</td>\n",
       "      <td>0.234633</td>\n",
       "    </tr>\n",
       "  </tbody>\n",
       "</table>\n",
       "</div>"
      ],
      "text/plain": [
       "solver            RandomSolver  TargetedRandomSolver\n",
       "simulations sum    1000.000000           1000.000000\n",
       "counter     mean    196.971000              2.537000\n",
       "            max    1367.000000             14.000000\n",
       "timer       sum      10.322992              0.234633"
      ]
     },
     "metadata": {},
     "output_type": "display_data"
    },
    {
     "data": {
      "image/png": "[encoded data removed]",
      "text/plain": [
       "<Figure size 400x200 with 2 Axes>"
      ]
     },
     "metadata": {},
     "output_type": "display_data"
    }
   ],
   "source": [
    "# Editiable parameters\n",
    "n = 1_000\n",
    "target_state = TargetState.IDENTITY\n",
    "solvers = [RandomSolver, TargetedRandomSolver]\n",
    "\n",
    "# Initalise cube\n",
    "cube = Cube(target_state)\n",
    "cube.show()\n",
    "\n",
    "# Perform simulation\n",
    "results = []\n",
    "for s in solvers:\n",
    "    solver = s(cube)\n",
    "    for i in range(n):\n",
    "        solver.cube.shuffle()\n",
    "        solver.solve()\n",
    "        results.append((str(solver), solver.counter, solver.timer))\n",
    "df = pd.DataFrame(data=results, columns=['solver', 'counter' ,'timer'])\n",
    "\n",
    "# Show simulation summary stats\n",
    "display(\n",
    "    df\n",
    "    .assign(simulations=1)\n",
    "    .groupby('solver')\n",
    "    .agg({'simulations': ['sum'], 'counter': ['mean', 'max'], 'timer': ['sum']})\n",
    "    .T\n",
    ")\n",
    "\n",
    "# Show simulation charts\n",
    "fig, ax = plt.subplots(nrows=len(solvers), figsize=(4, len(solvers)))\n",
    "plt.tight_layout(h_pad=3)\n",
    "for i, solver_name in enumerate(np.unique(df.solver)):\n",
    "    sns.histplot(\n",
    "        data=df.loc[df.solver == solver_name, 'counter'],\n",
    "        ax=ax[i]\n",
    "    ).set_title(solver_name)\n",
    "    ax[i].set_xlabel('')\n",
    "    ax[i].set_ylabel('')\n",
    "plt.show()"
   ]
  }
 ],
 "metadata": {
  "kernelspec": {
   "display_name": "Python 3 (ipykernel)",
   "language": "python",
   "name": "python3"
  },
  "language_info": {
   "codemirror_mode": {
    "name": "ipython",
    "version": 3
   },
   "file_extension": ".py",
   "mimetype": "text/x-python",
   "name": "python",
   "nbconvert_exporter": "python",
   "pygments_lexer": "ipython3",
   "version": "3.11.2"
  }
 },
 "nbformat": 4,
 "nbformat_minor": 5
}
