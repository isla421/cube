{
 "cells": [
  {
   "cell_type": "code",
   "execution_count": 48,
   "id": "a8f46ca0-cac3-400c-92e6-14580ac80893",
   "metadata": {},
   "outputs": [],
   "source": [
    "import numpy as np\n",
    "from time import perf_counter\n",
    "import pandas as pd\n",
    "import seaborn as sns\n",
    "import matplotlib.pyplot as plt\n",
    "\n",
    "sns.set(font_scale=0.7)"
   ]
  },
  {
   "cell_type": "code",
   "execution_count": 97,
   "id": "47281c0c-e16c-414e-a4df-2d58ba106fb5",
   "metadata": {},
   "outputs": [],
   "source": [
    "from enum import Enum\n",
    "\n",
    "class TargetState(Enum):\n",
    "    SEQUENTIAL = [\n",
    "        [1, 2, 3],\n",
    "        [4, 5, 6],\n",
    "        [7, 8, 9],\n",
    "    ]\n",
    "    IDENTITY = [\n",
    "        [1, 0, 0],\n",
    "        [0, 1, 0],\n",
    "        [0, 0, 1],\n",
    "    ]\n",
    "    HORIZONTAL = [\n",
    "        [1, 1, 1],\n",
    "        [2, 2, 2],\n",
    "        [3, 3, 3],\n",
    "    ]\n",
    "\n",
    "class Cube:\n",
    "    \n",
    "    def __init__(self, target_state): \n",
    "        self.target_state = np.array(target_state.value)\n",
    "        self.cube = np.array(target_state.value)\n",
    "\n",
    "    def is_solved(self):\n",
    "        return np.array_equal(self.cube, self.target_state)\n",
    "\n",
    "    def shuffle(self):\n",
    "        self.cube = self.cube.flatten()\n",
    "        np.random.shuffle(self.cube)\n",
    "        self.cube = self.cube.reshape(self.target_state.shape)\n",
    "\n",
    "    def swap(self, ax, ay, bx, by):\n",
    "        self.cube[(ax, ay)], self.cube[(bx, by)] = self.cube[(bx, by)], self.cube[(ax, ay)]\n",
    "\n",
    "    def show(self):\n",
    "        plt.figure(figsize=(1.5, 1.5))\n",
    "        sns.heatmap(self.cube, cbar=False, xticklabels=False, yticklabels=False,\n",
    "                    linewidth=0.5, annot=True, cmap='coolwarm', square=True)\n",
    "        plt.show()\n",
    "\n",
    "    def __repr__(self):\n",
    "        return str(self.cube)"
   ]
  },
  {
   "cell_type": "code",
   "execution_count": 71,
   "id": "68e18432-9eec-4f4b-a94d-6fc4b2a0bf74",
   "metadata": {},
   "outputs": [],
   "source": [
    "class Solver:\n",
    "    def __init__(self, cube):\n",
    "        self.cube = cube\n",
    "        self.counter = None\n",
    "        self.timer = None\n",
    "\n",
    "    def solve(self, verbose=False):\n",
    "        self.counter = 0\n",
    "        self.timer = 0\n",
    "        tic = perf_counter()\n",
    "        while self.cube.is_solved() == False:\n",
    "            self.cube.swap(*np.random.randint(0, 3, 4))\n",
    "            self.counter += 1\n",
    "            if verbose:\n",
    "                self.cube.show()\n",
    "        toc = perf_counter()\n",
    "        self.timer = toc - tic"
   ]
  },
  {
   "cell_type": "code",
   "execution_count": 98,
   "id": "08160b5b-3b8f-426d-b4c8-1afee5b0b618",
   "metadata": {},
   "outputs": [
    {
     "data": {
      "image/png": "[encoded data removed]",
      "text/plain": [
       "<Figure size 150x150 with 1 Axes>"
      ]
     },
     "metadata": {},
     "output_type": "display_data"
    },
    {
     "data": {
      "text/html": [
       "<div>\n",
       "<style scoped>\n",
       "    .dataframe tbody tr th:only-of-type {\n",
       "        vertical-align: middle;\n",
       "    }\n",
       "\n",
       "    .dataframe tbody tr th {\n",
       "        vertical-align: top;\n",
       "    }\n",
       "\n",
       "    .dataframe thead th {\n",
       "        text-align: right;\n",
       "    }\n",
       "</style>\n",
       "<table border=\"1\" class=\"dataframe\">\n",
       "  <thead>\n",
       "    <tr style=\"text-align: right;\">\n",
       "      <th></th>\n",
       "      <th>counter</th>\n",
       "      <th>timer</th>\n",
       "    </tr>\n",
       "  </thead>\n",
       "  <tbody>\n",
       "    <tr>\n",
       "      <th>count</th>\n",
       "      <td>1000.000000</td>\n",
       "      <td>1000.000000</td>\n",
       "    </tr>\n",
       "    <tr>\n",
       "      <th>mean</th>\n",
       "      <td>199.560000</td>\n",
       "      <td>0.009747</td>\n",
       "    </tr>\n",
       "    <tr>\n",
       "      <th>std</th>\n",
       "      <td>201.081277</td>\n",
       "      <td>0.009811</td>\n",
       "    </tr>\n",
       "    <tr>\n",
       "      <th>min</th>\n",
       "      <td>0.000000</td>\n",
       "      <td>0.000012</td>\n",
       "    </tr>\n",
       "    <tr>\n",
       "      <th>25%</th>\n",
       "      <td>58.000000</td>\n",
       "      <td>0.002840</td>\n",
       "    </tr>\n",
       "    <tr>\n",
       "      <th>50%</th>\n",
       "      <td>140.000000</td>\n",
       "      <td>0.006825</td>\n",
       "    </tr>\n",
       "    <tr>\n",
       "      <th>75%</th>\n",
       "      <td>271.250000</td>\n",
       "      <td>0.013361</td>\n",
       "    </tr>\n",
       "    <tr>\n",
       "      <th>max</th>\n",
       "      <td>1302.000000</td>\n",
       "      <td>0.065583</td>\n",
       "    </tr>\n",
       "  </tbody>\n",
       "</table>\n",
       "</div>"
      ],
      "text/plain": [
       "           counter        timer\n",
       "count  1000.000000  1000.000000\n",
       "mean    199.560000     0.009747\n",
       "std     201.081277     0.009811\n",
       "min       0.000000     0.000012\n",
       "25%      58.000000     0.002840\n",
       "50%     140.000000     0.006825\n",
       "75%     271.250000     0.013361\n",
       "max    1302.000000     0.065583"
      ]
     },
     "execution_count": 98,
     "metadata": {},
     "output_type": "execute_result"
    }
   ],
   "source": [
    "c = Cube(TargetState.IDENTITY)\n",
    "c.show()\n",
    "s = Solver(c)\n",
    "results = []\n",
    "\n",
    "for i in range(1000):\n",
    "    s.cube.shuffle()\n",
    "    s.solve()\n",
    "    results.append((s.counter, s.timer))\n",
    "\n",
    "df = pd.DataFrame(data=results, columns=['counter' ,'timer'])\n",
    "df.describe()"
   ]
  },
  {
   "cell_type": "code",
   "execution_count": 47,
   "id": "d0a9aa03-da55-4cb6-a5eb-c48c43214f38",
   "metadata": {},
   "outputs": [
    {
     "data": {
      "text/plain": [
       "<Axes: xlabel='counter', ylabel='Count'>"
      ]
     },
     "execution_count": 47,
     "metadata": {},
     "output_type": "execute_result"
    },
    {
     "data": {
      "image/png": "[encoded data removed]",
      "text/plain": [
       "<Figure size 600x200 with 1 Axes>"
      ]
     },
     "metadata": {},
     "output_type": "display_data"
    }
   ],
   "source": [
    "plt.figure(figsize=(6, 2))\n",
    "sns.histplot(df.counter)"
   ]
  }
 ],
 "metadata": {
  "kernelspec": {
   "display_name": "Python 3 (ipykernel)",
   "language": "python",
   "name": "python3"
  },
  "language_info": {
   "codemirror_mode": {
    "name": "ipython",
    "version": 3
   },
   "file_extension": ".py",
   "mimetype": "text/x-python",
   "name": "python",
   "nbconvert_exporter": "python",
   "pygments_lexer": "ipython3",
   "version": "3.11.2"
  }
 },
 "nbformat": 4,
 "nbformat_minor": 5
}
