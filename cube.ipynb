{
 "cells": [
  {
   "cell_type": "code",
   "execution_count": 230,
   "id": "a8f46ca0-cac3-400c-92e6-14580ac80893",
   "metadata": {},
   "outputs": [],
   "source": [
    "import numpy as np\n",
    "from time import perf_counter\n",
    "import pandas as pd\n",
    "import seaborn as sns\n",
    "import matplotlib.pyplot as plt\n",
    "\n",
    "sns.set(font_scale=0.7)"
   ]
  },
  {
   "cell_type": "code",
   "execution_count": 202,
   "id": "82fa9d00-3a02-417f-b771-a0aed200e571",
   "metadata": {},
   "outputs": [
    {
     "data": {
      "text/plain": [
       "[[3 1 3]\n",
       " [1 2 1]\n",
       " [3 2 2]]"
      ]
     },
     "execution_count": 202,
     "metadata": {},
     "output_type": "execute_result"
    }
   ],
   "source": [
    "class Cube:\n",
    "    SOLVED_CUBE = np.array([[1, 1, 1], [2, 2, 2], [3, 3, 3]])\n",
    "    \n",
    "    def __init__(self): \n",
    "        self.cube = self.SOLVED_CUBE.copy()\n",
    "        self.shuffle()\n",
    "\n",
    "    def is_solved(self):\n",
    "        return np.array_equal(self.cube, self.SOLVED_CUBE)\n",
    "\n",
    "    def shuffle(self):\n",
    "        self.cube = self.cube.flatten()\n",
    "        np.random.shuffle(self.cube)\n",
    "        self.cube = self.cube.reshape(self.SOLVED_CUBE.shape)\n",
    "\n",
    "    def swap(self, ax, ay, bx, by):\n",
    "        self.cube[(ax, ay)], self.cube[(bx, by)] = self.cube[(bx, by)], self.cube[(ax, ay)]\n",
    "\n",
    "    def __repr__(self):\n",
    "        return str(self.cube)"
   ]
  },
  {
   "cell_type": "code",
   "execution_count": 207,
   "id": "68e18432-9eec-4f4b-a94d-6fc4b2a0bf74",
   "metadata": {},
   "outputs": [],
   "source": [
    "class Solver:\n",
    "    def __init__(self, cube):\n",
    "        self.cube = cube\n",
    "        self.counter = None\n",
    "        self.timer = None\n",
    "\n",
    "    def solve(self, verbose=False):\n",
    "        self.counter = 0\n",
    "        self.timer = 0\n",
    "        tic = perf_counter()\n",
    "        while self.cube.is_solved() == False:\n",
    "            self.cube.swap(*np.random.randint(0, 3, 4))\n",
    "            self.counter += 1\n",
    "        toc = perf_counter()\n",
    "        self.timer = toc - tic"
   ]
  },
  {
   "cell_type": "code",
   "execution_count": 250,
   "id": "45f42d31-f86b-4c5a-a2ee-f50c782bfb70",
   "metadata": {},
   "outputs": [
    {
     "data": {
      "text/html": [
       "<div>\n",
       "<style scoped>\n",
       "    .dataframe tbody tr th:only-of-type {\n",
       "        vertical-align: middle;\n",
       "    }\n",
       "\n",
       "    .dataframe tbody tr th {\n",
       "        vertical-align: top;\n",
       "    }\n",
       "\n",
       "    .dataframe thead th {\n",
       "        text-align: right;\n",
       "    }\n",
       "</style>\n",
       "<table border=\"1\" class=\"dataframe\">\n",
       "  <thead>\n",
       "    <tr style=\"text-align: right;\">\n",
       "      <th></th>\n",
       "      <th>counter</th>\n",
       "      <th>timer</th>\n",
       "    </tr>\n",
       "  </thead>\n",
       "  <tbody>\n",
       "    <tr>\n",
       "      <th>count</th>\n",
       "      <td>1000.000000</td>\n",
       "      <td>1000.000000</td>\n",
       "    </tr>\n",
       "    <tr>\n",
       "      <th>mean</th>\n",
       "      <td>2651.124000</td>\n",
       "      <td>0.131966</td>\n",
       "    </tr>\n",
       "    <tr>\n",
       "      <th>std</th>\n",
       "      <td>2667.945408</td>\n",
       "      <td>0.136503</td>\n",
       "    </tr>\n",
       "    <tr>\n",
       "      <th>min</th>\n",
       "      <td>0.000000</td>\n",
       "      <td>0.000014</td>\n",
       "    </tr>\n",
       "    <tr>\n",
       "      <th>25%</th>\n",
       "      <td>762.500000</td>\n",
       "      <td>0.037046</td>\n",
       "    </tr>\n",
       "    <tr>\n",
       "      <th>50%</th>\n",
       "      <td>1830.000000</td>\n",
       "      <td>0.089878</td>\n",
       "    </tr>\n",
       "    <tr>\n",
       "      <th>75%</th>\n",
       "      <td>3544.000000</td>\n",
       "      <td>0.176109</td>\n",
       "    </tr>\n",
       "    <tr>\n",
       "      <th>max</th>\n",
       "      <td>18162.000000</td>\n",
       "      <td>1.012843</td>\n",
       "    </tr>\n",
       "  </tbody>\n",
       "</table>\n",
       "</div>"
      ],
      "text/plain": [
       "            counter        timer\n",
       "count   1000.000000  1000.000000\n",
       "mean    2651.124000     0.131966\n",
       "std     2667.945408     0.136503\n",
       "min        0.000000     0.000014\n",
       "25%      762.500000     0.037046\n",
       "50%     1830.000000     0.089878\n",
       "75%     3544.000000     0.176109\n",
       "max    18162.000000     1.012843"
      ]
     },
     "execution_count": 250,
     "metadata": {},
     "output_type": "execute_result"
    }
   ],
   "source": [
    "c = Cube()\n",
    "s = Solver(c)\n",
    "results = []\n",
    "\n",
    "for i in range(1000):\n",
    "    s.cube.shuffle()\n",
    "    s.solve()\n",
    "    results.append((s.counter, s.timer))\n",
    "\n",
    "df = pd.DataFrame(data=results, columns=['counter' ,'timer'])\n",
    "df.describe()"
   ]
  },
  {
   "cell_type": "code",
   "execution_count": 245,
   "id": "d0a9aa03-da55-4cb6-a5eb-c48c43214f38",
   "metadata": {},
   "outputs": [
    {
     "data": {
      "text/plain": [
       "<Axes: xlabel='counter', ylabel='Count'>"
      ]
     },
     "execution_count": 245,
     "metadata": {},
     "output_type": "execute_result"
    },
    {
     "data": {
      "image/png": "[encoded data removed]",
      "text/plain": [
       "<Figure size 600x200 with 1 Axes>"
      ]
     },
     "metadata": {},
     "output_type": "display_data"
    }
   ],
   "source": [
    "plt.figure(figsize=(6, 2))\n",
    "sns.histplot(df.counter)"
   ]
  },
  {
   "cell_type": "code",
   "execution_count": null,
   "id": "be9d9662-df4e-4e65-b511-06b31767aa0d",
   "metadata": {},
   "outputs": [],
   "source": []
  }
 ],
 "metadata": {
  "kernelspec": {
   "display_name": "Python 3 (ipykernel)",
   "language": "python",
   "name": "python3"
  },
  "language_info": {
   "codemirror_mode": {
    "name": "ipython",
    "version": 3
   },
   "file_extension": ".py",
   "mimetype": "text/x-python",
   "name": "python",
   "nbconvert_exporter": "python",
   "pygments_lexer": "ipython3",
   "version": "3.11.2"
  }
 },
 "nbformat": 4,
 "nbformat_minor": 5
}
